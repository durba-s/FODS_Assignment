{
 "cells": [
  {
   "cell_type": "markdown",
   "id": "62f88f39",
   "metadata": {},
   "source": [
    "## Importing Libraries"
   ]
  },
  {
   "cell_type": "code",
   "execution_count": 20,
   "id": "d6faf641",
   "metadata": {},
   "outputs": [],
   "source": [
    "import pandas as pd\n",
    "import numpy as np\n",
    "import matplotlib.pyplot as plt\n",
    "import seaborn as sns\n",
    "from tqdm import tqdm\n",
    "\n",
    "tqdm.pandas()"
   ]
  },
  {
   "cell_type": "markdown",
   "id": "024580e6",
   "metadata": {},
   "source": [
    "## Loading the dataset"
   ]
  },
  {
   "cell_type": "code",
   "execution_count": 5,
   "id": "92f2e958",
   "metadata": {},
   "outputs": [
    {
     "data": {
      "text/html": [
       "<div>\n",
       "<style scoped>\n",
       "    .dataframe tbody tr th:only-of-type {\n",
       "        vertical-align: middle;\n",
       "    }\n",
       "\n",
       "    .dataframe tbody tr th {\n",
       "        vertical-align: top;\n",
       "    }\n",
       "\n",
       "    .dataframe thead th {\n",
       "        text-align: right;\n",
       "    }\n",
       "</style>\n",
       "<table border=\"1\" class=\"dataframe\">\n",
       "  <thead>\n",
       "    <tr style=\"text-align: right;\">\n",
       "      <th></th>\n",
       "      <th>bedrooms</th>\n",
       "      <th>bathrooms</th>\n",
       "      <th>sqft_living</th>\n",
       "      <th>sqft_lot</th>\n",
       "      <th>floors</th>\n",
       "      <th>waterfront</th>\n",
       "      <th>view</th>\n",
       "      <th>condition</th>\n",
       "      <th>grade</th>\n",
       "      <th>sqft_above</th>\n",
       "      <th>sqft_basement</th>\n",
       "      <th>sqft_living15</th>\n",
       "      <th>sqft_lot15</th>\n",
       "      <th>price</th>\n",
       "    </tr>\n",
       "  </thead>\n",
       "  <tbody>\n",
       "    <tr>\n",
       "      <th>0</th>\n",
       "      <td>4</td>\n",
       "      <td>1.75</td>\n",
       "      <td>2120.0</td>\n",
       "      <td>7420</td>\n",
       "      <td>1.0</td>\n",
       "      <td>0</td>\n",
       "      <td>0</td>\n",
       "      <td>4</td>\n",
       "      <td>7</td>\n",
       "      <td>1060.0</td>\n",
       "      <td>1060</td>\n",
       "      <td>1540</td>\n",
       "      <td>7420</td>\n",
       "      <td>453000.0</td>\n",
       "    </tr>\n",
       "    <tr>\n",
       "      <th>1</th>\n",
       "      <td>4</td>\n",
       "      <td>2.50</td>\n",
       "      <td>2180.0</td>\n",
       "      <td>9861</td>\n",
       "      <td>2.0</td>\n",
       "      <td>0</td>\n",
       "      <td>2</td>\n",
       "      <td>3</td>\n",
       "      <td>8</td>\n",
       "      <td>2180.0</td>\n",
       "      <td>0</td>\n",
       "      <td>2390</td>\n",
       "      <td>9761</td>\n",
       "      <td>480000.0</td>\n",
       "    </tr>\n",
       "    <tr>\n",
       "      <th>2</th>\n",
       "      <td>3</td>\n",
       "      <td>1.50</td>\n",
       "      <td>1540.0</td>\n",
       "      <td>9800</td>\n",
       "      <td>1.0</td>\n",
       "      <td>0</td>\n",
       "      <td>0</td>\n",
       "      <td>3</td>\n",
       "      <td>7</td>\n",
       "      <td>1010.0</td>\n",
       "      <td>530</td>\n",
       "      <td>1600</td>\n",
       "      <td>8250</td>\n",
       "      <td>180500.0</td>\n",
       "    </tr>\n",
       "    <tr>\n",
       "      <th>3</th>\n",
       "      <td>3</td>\n",
       "      <td>3.50</td>\n",
       "      <td>2380.0</td>\n",
       "      <td>6250</td>\n",
       "      <td>2.0</td>\n",
       "      <td>0</td>\n",
       "      <td>3</td>\n",
       "      <td>3</td>\n",
       "      <td>8</td>\n",
       "      <td>1670.0</td>\n",
       "      <td>710</td>\n",
       "      <td>2540</td>\n",
       "      <td>4010</td>\n",
       "      <td>495000.0</td>\n",
       "    </tr>\n",
       "    <tr>\n",
       "      <th>4</th>\n",
       "      <td>4</td>\n",
       "      <td>2.50</td>\n",
       "      <td>2230.0</td>\n",
       "      <td>8500</td>\n",
       "      <td>2.0</td>\n",
       "      <td>0</td>\n",
       "      <td>0</td>\n",
       "      <td>3</td>\n",
       "      <td>8</td>\n",
       "      <td>2230.0</td>\n",
       "      <td>0</td>\n",
       "      <td>2270</td>\n",
       "      <td>8770</td>\n",
       "      <td>325000.0</td>\n",
       "    </tr>\n",
       "  </tbody>\n",
       "</table>\n",
       "</div>"
      ],
      "text/plain": [
       "   bedrooms  bathrooms  sqft_living  sqft_lot  floors  waterfront  view  \\\n",
       "0         4       1.75       2120.0      7420     1.0           0     0   \n",
       "1         4       2.50       2180.0      9861     2.0           0     2   \n",
       "2         3       1.50       1540.0      9800     1.0           0     0   \n",
       "3         3       3.50       2380.0      6250     2.0           0     3   \n",
       "4         4       2.50       2230.0      8500     2.0           0     0   \n",
       "\n",
       "   condition  grade  sqft_above  sqft_basement  sqft_living15  sqft_lot15  \\\n",
       "0          4      7      1060.0           1060           1540        7420   \n",
       "1          3      8      2180.0              0           2390        9761   \n",
       "2          3      7      1010.0            530           1600        8250   \n",
       "3          3      8      1670.0            710           2540        4010   \n",
       "4          3      8      2230.0              0           2270        8770   \n",
       "\n",
       "      price  \n",
       "0  453000.0  \n",
       "1  480000.0  \n",
       "2  180500.0  \n",
       "3  495000.0  \n",
       "4  325000.0  "
      ]
     },
     "execution_count": 5,
     "metadata": {},
     "output_type": "execute_result"
    }
   ],
   "source": [
    "fn=\"./FoDS-Assignment-2.csv\"\n",
    "df=pd.read_csv(fn)\n",
    "df.head()"
   ]
  },
  {
   "cell_type": "markdown",
   "id": "aaff7885",
   "metadata": {},
   "source": [
    "## Dataset Analysis"
   ]
  },
  {
   "cell_type": "markdown",
   "id": "daee45f4",
   "metadata": {},
   "source": [
    "#### Dataframe Stats"
   ]
  },
  {
   "cell_type": "code",
   "execution_count": null,
   "id": "277300ef",
   "metadata": {},
   "outputs": [],
   "source": [
    "df.describe()"
   ]
  },
  {
   "cell_type": "markdown",
   "id": "a45600c6",
   "metadata": {},
   "source": [
    "#### Number of Duplicate data points"
   ]
  },
  {
   "cell_type": "code",
   "execution_count": null,
   "id": "76e40834",
   "metadata": {},
   "outputs": [],
   "source": [
    "df.duplicated().sum()"
   ]
  },
  {
   "cell_type": "markdown",
   "id": "feeaf0eb",
   "metadata": {},
   "source": [
    "#### Number of unique values and null values"
   ]
  },
  {
   "cell_type": "code",
   "execution_count": null,
   "id": "0d0bc08d",
   "metadata": {
    "scrolled": false
   },
   "outputs": [],
   "source": [
    "ud=[]\n",
    "nd=[]\n",
    "for col in df.columns:\n",
    "    ud.append(len(pd.unique(df[col])))\n",
    "    nd.append(df[col].isnull().sum())\n",
    "df_s={'Feature Number': [0,1,2,3,4,5,6,7,8,9,10,11,12,'Target Attribute'],'Feature Name':df.columns,\n",
    "        'Number of Unique Values':ud,\n",
    "     'Number of Null Values':nd}\n",
    "df_s=pd.DataFrame(df_s)\n",
    "df_s"
   ]
  },
  {
   "cell_type": "markdown",
   "id": "d2e1c2f1",
   "metadata": {},
   "source": [
    "#### Correlation Matrix"
   ]
  },
  {
   "cell_type": "code",
   "execution_count": null,
   "id": "329c5c27",
   "metadata": {
    "scrolled": true
   },
   "outputs": [],
   "source": [
    "plt.figure(figsize=(12,10))\n",
    "sns.heatmap(data = df.corr(),annot=True)"
   ]
  },
  {
   "cell_type": "markdown",
   "id": "ca825084",
   "metadata": {},
   "source": [
    "#### Boxplots"
   ]
  },
  {
   "cell_type": "code",
   "execution_count": null,
   "id": "9296198c",
   "metadata": {
    "scrolled": true
   },
   "outputs": [],
   "source": [
    "fig = plt.figure(figsize =(15, 50))\n",
    "i=1\n",
    "for s in df.columns:\n",
    "    plt.subplot(7,4, i)\n",
    "    plt.title(s)\n",
    "    plt.grid()\n",
    "    sns.boxplot(data=df[[s]])\n",
    "    i=i+1\n",
    "plt.show()"
   ]
  },
  {
   "cell_type": "markdown",
   "id": "99b6198b",
   "metadata": {},
   "source": [
    "#### Scatter Plots (Individual Features VS Target Attribute)"
   ]
  },
  {
   "cell_type": "code",
   "execution_count": null,
   "id": "faa3cde9",
   "metadata": {
    "scrolled": true
   },
   "outputs": [],
   "source": [
    "fig = plt.figure(figsize=(40,40))\n",
    "plt.rc('axes', labelsize=25)\n",
    "for i, col in enumerate(df.columns[:-1]):\n",
    "    plt.subplot(4,4,i+1)\n",
    "    plt.scatter(df[col], df[\"price\"])\n",
    "    plt.xlabel(col)\n",
    "    plt.ylabel(\"price\")\n",
    "plt.show()"
   ]
  },
  {
   "cell_type": "markdown",
   "id": "1866fb65",
   "metadata": {},
   "source": [
    "## Data Preprocessing"
   ]
  },
  {
   "cell_type": "code",
   "execution_count": 63,
   "id": "6e8317d4",
   "metadata": {},
   "outputs": [],
   "source": [
    "class KNN:\n",
    "  def __init__(self,X):\n",
    "    self.X = np.array(X)\n",
    "\n",
    "  def outlier_indices(self, k, threshold):   \n",
    "    dist = []\n",
    "    for i in range(0,self.X.shape[0]):\n",
    "      distance = np.linalg.norm(self.X - self.X[i, :], axis = 1)\n",
    "      distance[i] = np.Infinity\n",
    "      dist.append(np.mean(distance[np.argsort(distance)[:k]]))\n",
    "    return np.squeeze(np.argwhere(np.array(dist) >= threshold)) "
   ]
  },
  {
   "cell_type": "code",
   "execution_count": 154,
   "id": "faf027a2",
   "metadata": {},
   "outputs": [
    {
     "name": "stdout",
     "output_type": "stream",
     "text": [
      "Number of outliers = 138\n"
     ]
    },
    {
     "data": {
      "image/png": "[encoded data removed]",
      "text/plain": [
       "<Figure size 432x288 with 1 Axes>"
      ]
     },
     "metadata": {
      "needs_background": "light"
     },
     "output_type": "display_data"
    },
    {
     "name": "stdout",
     "output_type": "stream",
     "text": [
      "Train MSE 0.25295462994340945\n",
      "Val MSE 0.1799868626247549\n",
      "Test MSE 0.1787476246184193\n"
     ]
    }
   ],
   "source": [
    "def preprocess(data,f=0.6,scalingMethod=\"standardize\", outlierMethod=\"knn\", knn_k=5, knn_threshold=2, tstd_threshold=2.5, missingValues=\"drop\"):\n",
    "    EPS = 1e-12\n",
    "\n",
    "    if missingValues == \"drop\":\n",
    "        data = data.dropna()\n",
    "    elif missingValues == \"imputemean\":\n",
    "        for col in data.columns:\n",
    "            data[col] = data[col].fillna((data[col].mean()))\n",
    "    else:\n",
    "        data = data.fillna(0)\n",
    "    \n",
    "    if outlierMethod == \"knn\":\n",
    "        scaled_data = data.iloc[:,:-1]\n",
    "        scaled_data = (scaled_data - scaled_data.mean())/scaled_data.std()\n",
    "        knn = KNN(scaled_data)\n",
    "        outlier_index = knn.outlier_indices(knn_k, knn_threshold)\n",
    "        print(f\"Number of outliers = {len(outlier_index)}\")\n",
    "        data = data.drop(data.index[outlier_index])\n",
    "    elif outlierMethod == \"tstd\":\n",
    "        target = data.iloc[:,-1]\n",
    "        target = (target - target.mean())/target.std()\n",
    "        outlier_index = np.argwhere(target >= tstd_threshold)\n",
    "        data = data.drop(data.index[outlier_index])\n",
    "    else:\n",
    "        pass\n",
    "\n",
    "    #train test split\n",
    "    train = data.sample(frac=f, random_state=0)\n",
    "    val_data = data.drop(train.index)\n",
    "    val = val_data.sample(frac=0.5, random_state=1)\n",
    "    test = val_data.drop(val.index)    \n",
    "    X_train = train.iloc[:, :-1]\n",
    "    y_train = train.iloc[:, -1]\n",
    "    X_val = val.iloc[:,:-1]\n",
    "    y_val = val.iloc[:, -1]\n",
    "    X_test = test.iloc[:, :-1]\n",
    "    y_test = test.iloc[:, -1]\n",
    "    \n",
    "    if scalingMethod == \"standardize\":\n",
    "        Xmean = X_train.mean()\n",
    "        Xsd = X_train.std()\n",
    "        ymean = y_train.mean()\n",
    "        ysd = y_train.std()\n",
    "        X_train = (X_train - Xmean) / (Xsd + EPS)\n",
    "        X_val = (X_val - Xmean) / (Xsd + EPS)\n",
    "        X_test = (X_test - Xmean) / (Xsd + EPS)\n",
    "        y_train = (y_train - ymean) / (ysd + EPS)\n",
    "        y_val = (y_val - ymean) / (ysd + EPS)\n",
    "        y_test = (y_test - ymean) / (ysd + EPS)\n",
    "        return np.array(X_train), np.array(y_train).reshape(-1,1), np.array(X_val), np.array(y_val).reshape(-1,1), np.array(X_test), np.array(y_test).reshape(-1,1), Xmean, Xsd, ymean, ysd\n",
    "    elif scalingMethod == \"scale\":\n",
    "        Xminval = X_train.min()\n",
    "        Xdiff = X_train.max() - X_train.min()\n",
    "        yminval = y_train.min()\n",
    "        ydiff = y_train.max() - y_train.min()\n",
    "        X_train = (X_train - Xminval) / (Xdiff + EPS)\n",
    "        X_val = (X_train - Xminval) / (Xdiff + EPS)\n",
    "        X_test = (X_test - Xminval) / (Xdiff + EPS)\n",
    "        y_train = (y_train - yminval) / (ydiff + EPS)\n",
    "        y_val = (y_val - yminval) / (ydiff + EPS)\n",
    "        y_test = (y_test - yminval) / (ydiff + EPS)\n",
    "        return np.array(X_train), np.array(y_train).reshape(-1,1), np.array(X_val), np.array(y_val).reshape(-1,1), np.array(X_test), np.array(y_test).reshape(-1,1), Xminval, Xdiff, yminval, ydiff\n",
    "    else:\n",
    "        return np.array(X_train), np.array(y_train).reshape(-1,1), np.array(X_val), np.array(y_val).reshape(-1,1), np.array(X_test), np.array(y_test).reshape(-1,1), 0, 1, 0, 1\n",
    "\n",
    "X_train, y_train, X_val, y_val, X_test, y_test, xnum, xdr, ynum, ydr = preprocess(df)\n",
    "model = LinearRegression(X_train, y_train)\n",
    "W,b = model.fitGD(lr=0.01, graph=True)\n",
    "print('Train MSE',model.MSE(y_train, model.predict(X_train)))\n",
    "print('Val MSE',model.MSE(y_val, model.predict(X_val)))\n",
    "print('Test MSE',model.MSE(y_test, model.predict(X_test)))"
   ]
  },
  {
   "cell_type": "markdown",
   "id": "7e386526",
   "metadata": {},
   "source": [
    "## Linear Regression Model"
   ]
  },
  {
   "cell_type": "code",
   "execution_count": 132,
   "id": "bce0928c",
   "metadata": {},
   "outputs": [],
   "source": [
    "class LinearRegression:\n",
    "\n",
    "    def __init__(self, X, y):\n",
    "            self.X = X #(n,d)\n",
    "            self.y = y #(n,1)\n",
    "            self.W = np.zeros((1, X.shape[1])) #(1,d)\n",
    "            self.b = 1\n",
    "\n",
    "    def fitGD(self, n_iter=1000, lr=0.01, graph=False):\n",
    "        mse = []\n",
    "        for i in range(n_iter):\n",
    "            yp = self.predict(self.X)\n",
    "            mse.append(self.MSE(self.y, yp))\n",
    "            Wgrad = (1/self.X.shape[0])*((self.X.T)@(yp-self.y)).T #(d,n)*(n,1) = (d,1)\n",
    "            self.W = self.W - lr * Wgrad\n",
    "            self.b = self.b - lr * np.mean(yp-self.y)\n",
    "        if(graph == True):\n",
    "            plt.plot(mse)\n",
    "            plt.show()\n",
    "        return self.W, self.b\n",
    "    \n",
    "    def predict(self, X):\n",
    "        return (X@self.W.T + self.b)\n",
    "\n",
    "    def MSE(self, y, yp):\n",
    "        return 0.5*np.mean((y-yp)**2)\n",
    "    \n",
    "    def RMSE(self, y, yp):\n",
    "        return np.sqrt(self.MSE(y, yp))"
   ]
  },
  {
   "cell_type": "code",
   "execution_count": null,
   "id": "dd52cfda",
   "metadata": {},
   "outputs": [],
   "source": []
  },
  {
   "cell_type": "markdown",
   "id": "9516fcc7",
   "metadata": {},
   "source": [
    "## Feature Selection"
   ]
  },
  {
   "cell_type": "code",
   "execution_count": 144,
   "id": "26b1c13e",
   "metadata": {},
   "outputs": [],
   "source": [
    "def GFFS(X_train, y_train, X_val, y_val, X_test, y_test):\n",
    "    d = X_train.shape[1]\n",
    "    remaining = list(range(d))\n",
    "    selected = []\n",
    "    train_MSE = []\n",
    "    val_MSE = []\n",
    "    test_MSE = []\n",
    "    for i in range(d):\n",
    "        print(i+1)\n",
    "        min_mse = 1e100\n",
    "        min_mse_val = 1e100\n",
    "        min_mse_test = 1e100\n",
    "        min_j = -1\n",
    "        for j in remaining:\n",
    "            cur_features = selected + [j]\n",
    "            X_train_cur = X_train[:,cur_features]\n",
    "            X_val_cur = X_val[:, cur_features]\n",
    "            X_test_cur = X_test[:, cur_features]\n",
    "            model = LinearRegression(X_train_cur, y_train)\n",
    "            model.fitGD(lr=0.01,n_iter=1000)\n",
    "            mse = model.MSE(y_train,model.predict(X_train_cur))\n",
    "            mse_val = model.MSE(y_val,model.predict(X_val_cur))\n",
    "            mse_test = model.MSE(y_test,model.predict(X_test_cur))\n",
    "            if mse_val < min_mse_val:\n",
    "                min_mse = mse\n",
    "                min_mse_val = mse_val\n",
    "                min_mse_test = mse_test\n",
    "                min_j = j\n",
    "        train_MSE.append(min_mse)\n",
    "        val_MSE.append(min_mse_val)\n",
    "        test_MSE.append(min_mse_test)\n",
    "        selected.append(min_j)\n",
    "        remaining.remove(min_j)\n",
    "        print(min_mse,selected)\n",
    "    return selected, train_MSE, val_MSE, test_MSE\n",
    "    "
   ]
  },
  {
   "cell_type": "code",
   "execution_count": 145,
   "id": "f250a383",
   "metadata": {},
   "outputs": [],
   "source": [
    "def GBFS(X_train, y_train, X_val, y_val, X_test, y_test):\n",
    "    d = X_train.shape[1]\n",
    "    removed = [-1]\n",
    "    selected = list(range(d))\n",
    "    model = LinearRegression(X_train, y_train)\n",
    "    model.fitGD(lr=0.01,n_iter=10000)\n",
    "    train_MSE = [model.MSE(y_train, model.predict(X_train))]\n",
    "    val_MSE = [model.MSE(y_val, model.predict(X_val))]\n",
    "    test_MSE = [model.MSE(y_test, model.predict(X_test))]\n",
    "    for i in range(d-1):\n",
    "        print(d-i)\n",
    "        min_mse = 1e100\n",
    "        min_mse_val = 1e100\n",
    "        min_mse_test = 1e100\n",
    "        min_j = -1\n",
    "        for j in selected:\n",
    "            cur_features = [x for x in selected if x != j]\n",
    "            X_train_cur = X_train[:, cur_features]\n",
    "            X_val_cur = X_val[:, cur_features]\n",
    "            X_test_cur = X_test[:, cur_features]\n",
    "            model = LinearRegression(X_train_cur, y_train)\n",
    "            model.fitGD(lr=0.01,n_iter=1000)\n",
    "            mse = model.MSE(y_train,model.predict(X_train_cur))\n",
    "            mse_val = model.MSE(y_val,model.predict(X_val_cur))\n",
    "            mse_test = model.MSE(y_test,model.predict(X_test_cur))\n",
    "            if mse_val < min_mse_val:\n",
    "                min_mse = mse\n",
    "                min_mse_val = mse_val\n",
    "                min_mse_test = mse_test\n",
    "                min_j = j\n",
    "        train_MSE.append(min_mse)\n",
    "        val_MSE.append(min_mse_val)\n",
    "        test_MSE.append(min_mse_test)\n",
    "        selected.remove(min_j)\n",
    "        removed.append(min_j)\n",
    "        print(min_mse, selected)\n",
    "    removed.append(selected[0])\n",
    "    return removed, train_MSE, val_MSE, test_MSE    "
   ]
  },
  {
   "cell_type": "markdown",
   "id": "68f21f61",
   "metadata": {},
   "source": [
    "## Eval Code"
   ]
  },
  {
   "cell_type": "markdown",
   "id": "d8c356be",
   "metadata": {},
   "source": [
    "### Linear regression model without any pre-processing and feature selection"
   ]
  },
  {
   "cell_type": "code",
   "execution_count": 161,
   "id": "7bd62f32",
   "metadata": {},
   "outputs": [
    {
     "data": {
      "image/png": "[encoded data removed]",
      "text/plain": [
       "<Figure size 432x288 with 1 Axes>"
      ]
     },
     "metadata": {
      "needs_background": "light"
     },
     "output_type": "display_data"
    },
    {
     "name": "stdout",
     "output_type": "stream",
     "text": [
      "Train MSE 32228592802.096523\n",
      "Val MSE 45518288007.37285\n",
      "Test MSE 34354488752.3929\n"
     ]
    }
   ],
   "source": [
    "X_train, y_train, X_val, y_val, X_test, y_test, xnum, xdr, ynum, ydr = preprocess(df, scalingMethod=None, outlierMethod=None, missingValues=None)\n",
    "model = LinearRegression(X_train, y_train)\n",
    "W,b = model.fitGD(lr=1e-10, n_iter=int(1e5), graph=True)\n",
    "print('Train MSE',model.MSE(y_train, model.predict(X_train)))\n",
    "print('Val MSE',model.MSE(y_val, model.predict(X_val)))\n",
    "print('Test MSE',model.MSE(y_test, model.predict(X_test)))"
   ]
  },
  {
   "cell_type": "markdown",
   "id": "a51954b3",
   "metadata": {},
   "source": [
    "### Greedy forward feature selection"
   ]
  },
  {
   "cell_type": "code",
   "execution_count": 147,
   "id": "c9758476",
   "metadata": {},
   "outputs": [
    {
     "name": "stdout",
     "output_type": "stream",
     "text": [
      "Number of outliers = 138\n",
      "1\n",
      "0.32401005490881585 [2]\n",
      "2\n",
      "0.28015145165098954 [2, 8]\n",
      "3\n",
      "0.2787323076332088 [2, 8, 10]\n",
      "4\n",
      "0.2775148926404484 [2, 8, 10, 3]\n",
      "5\n",
      "0.27413954394605156 [2, 8, 10, 3, 11]\n",
      "6\n",
      "0.26759699182156077 [2, 8, 10, 3, 11, 7]\n",
      "7\n",
      "0.26613614274255987 [2, 8, 10, 3, 11, 7, 0]\n",
      "8\n",
      "0.26613614274255987 [2, 8, 10, 3, 11, 7, 0, 5]\n",
      "9\n",
      "0.26614385303183646 [2, 8, 10, 3, 11, 7, 0, 5, 12]\n",
      "10\n",
      "0.2644088367410126 [2, 8, 10, 3, 11, 7, 0, 5, 12, 1]\n",
      "11\n",
      "0.2642581281393565 [2, 8, 10, 3, 11, 7, 0, 5, 12, 1, 4]\n",
      "12\n",
      "0.2639836905715301 [2, 8, 10, 3, 11, 7, 0, 5, 12, 1, 4, 9]\n",
      "13\n",
      "0.25295462994340945 [2, 8, 10, 3, 11, 7, 0, 5, 12, 1, 4, 9, 6]\n",
      "[2, 8, 10, 3, 11, 7, 0, 5, 12, 1, 4, 9, 6]\n"
     ]
    },
    {
     "data": {
      "text/plain": [
       "array(['sqft_living', 'grade', 'sqft_basement', 'sqft_lot',\n",
       "       'sqft_living15', 'condition', 'bedrooms', 'waterfront',\n",
       "       'sqft_lot15', 'bathrooms', 'floors', 'sqft_above', 'view'],\n",
       "      dtype=object)"
      ]
     },
     "execution_count": 147,
     "metadata": {},
     "output_type": "execute_result"
    }
   ],
   "source": [
    "X_train, y_train, X_val, y_val, X_test, y_test, xnum, xdr, ynum, ydr = preprocess(df)\n",
    "selected, GFFS_MSE_train, GFFS_MSE_val, GFFS_MSE_test = GFFS(X_train, y_train, X_val, y_val, X_test, y_test)\n",
    "print(selected)\n",
    "np.array(df.columns)[selected]"
   ]
  },
  {
   "cell_type": "code",
   "execution_count": 152,
   "id": "585559b7",
   "metadata": {},
   "outputs": [
    {
     "name": "stdout",
     "output_type": "stream",
     "text": [
      "Feature Subsets (GFFS)\n"
     ]
    },
    {
     "data": {
      "text/html": [
       "<div>\n",
       "<style scoped>\n",
       "    .dataframe tbody tr th:only-of-type {\n",
       "        vertical-align: middle;\n",
       "    }\n",
       "\n",
       "    .dataframe tbody tr th {\n",
       "        vertical-align: top;\n",
       "    }\n",
       "\n",
       "    .dataframe thead th {\n",
       "        text-align: right;\n",
       "    }\n",
       "</style>\n",
       "<table border=\"1\" class=\"dataframe\">\n",
       "  <thead>\n",
       "    <tr style=\"text-align: right;\">\n",
       "      <th></th>\n",
       "      <th>d</th>\n",
       "      <th>Feature Subset</th>\n",
       "      <th>Train MSE</th>\n",
       "      <th>Val MSE</th>\n",
       "      <th>Test MSE</th>\n",
       "    </tr>\n",
       "  </thead>\n",
       "  <tbody>\n",
       "    <tr>\n",
       "      <th>0</th>\n",
       "      <td>1</td>\n",
       "      <td>[2]</td>\n",
       "      <td>0.324010</td>\n",
       "      <td>0.193892</td>\n",
       "      <td>0.198382</td>\n",
       "    </tr>\n",
       "    <tr>\n",
       "      <th>1</th>\n",
       "      <td>2</td>\n",
       "      <td>[2, 8]</td>\n",
       "      <td>0.280151</td>\n",
       "      <td>0.186149</td>\n",
       "      <td>0.201409</td>\n",
       "    </tr>\n",
       "    <tr>\n",
       "      <th>2</th>\n",
       "      <td>3</td>\n",
       "      <td>[2, 8, 10]</td>\n",
       "      <td>0.278732</td>\n",
       "      <td>0.179573</td>\n",
       "      <td>0.196570</td>\n",
       "    </tr>\n",
       "    <tr>\n",
       "      <th>3</th>\n",
       "      <td>4</td>\n",
       "      <td>[2, 8, 10, 3]</td>\n",
       "      <td>0.277515</td>\n",
       "      <td>0.175606</td>\n",
       "      <td>0.195076</td>\n",
       "    </tr>\n",
       "    <tr>\n",
       "      <th>4</th>\n",
       "      <td>5</td>\n",
       "      <td>[2, 8, 10, 3, 11]</td>\n",
       "      <td>0.274140</td>\n",
       "      <td>0.173493</td>\n",
       "      <td>0.192623</td>\n",
       "    </tr>\n",
       "    <tr>\n",
       "      <th>5</th>\n",
       "      <td>6</td>\n",
       "      <td>[2, 8, 10, 3, 11, 7]</td>\n",
       "      <td>0.267597</td>\n",
       "      <td>0.172117</td>\n",
       "      <td>0.185882</td>\n",
       "    </tr>\n",
       "    <tr>\n",
       "      <th>6</th>\n",
       "      <td>7</td>\n",
       "      <td>[2, 8, 10, 3, 11, 7, 0]</td>\n",
       "      <td>0.266136</td>\n",
       "      <td>0.172016</td>\n",
       "      <td>0.189306</td>\n",
       "    </tr>\n",
       "    <tr>\n",
       "      <th>7</th>\n",
       "      <td>8</td>\n",
       "      <td>[2, 8, 10, 3, 11, 7, 0, 5]</td>\n",
       "      <td>0.266136</td>\n",
       "      <td>0.172016</td>\n",
       "      <td>0.189306</td>\n",
       "    </tr>\n",
       "    <tr>\n",
       "      <th>8</th>\n",
       "      <td>9</td>\n",
       "      <td>[2, 8, 10, 3, 11, 7, 0, 5, 12]</td>\n",
       "      <td>0.266144</td>\n",
       "      <td>0.172079</td>\n",
       "      <td>0.189270</td>\n",
       "    </tr>\n",
       "    <tr>\n",
       "      <th>9</th>\n",
       "      <td>10</td>\n",
       "      <td>[2, 8, 10, 3, 11, 7, 0, 5, 12, 1]</td>\n",
       "      <td>0.264409</td>\n",
       "      <td>0.172239</td>\n",
       "      <td>0.190729</td>\n",
       "    </tr>\n",
       "    <tr>\n",
       "      <th>10</th>\n",
       "      <td>11</td>\n",
       "      <td>[2, 8, 10, 3, 11, 7, 0, 5, 12, 1, 4]</td>\n",
       "      <td>0.264258</td>\n",
       "      <td>0.173703</td>\n",
       "      <td>0.190242</td>\n",
       "    </tr>\n",
       "    <tr>\n",
       "      <th>11</th>\n",
       "      <td>12</td>\n",
       "      <td>[2, 8, 10, 3, 11, 7, 0, 5, 12, 1, 4, 9]</td>\n",
       "      <td>0.263984</td>\n",
       "      <td>0.175880</td>\n",
       "      <td>0.189642</td>\n",
       "    </tr>\n",
       "    <tr>\n",
       "      <th>12</th>\n",
       "      <td>13</td>\n",
       "      <td>[2, 8, 10, 3, 11, 7, 0, 5, 12, 1, 4, 9, 6]</td>\n",
       "      <td>0.252955</td>\n",
       "      <td>0.179987</td>\n",
       "      <td>0.178748</td>\n",
       "    </tr>\n",
       "  </tbody>\n",
       "</table>\n",
       "</div>"
      ],
      "text/plain": [
       "     d                              Feature Subset  Train MSE   Val MSE  \\\n",
       "0    1                                         [2]   0.324010  0.193892   \n",
       "1    2                                      [2, 8]   0.280151  0.186149   \n",
       "2    3                                  [2, 8, 10]   0.278732  0.179573   \n",
       "3    4                               [2, 8, 10, 3]   0.277515  0.175606   \n",
       "4    5                           [2, 8, 10, 3, 11]   0.274140  0.173493   \n",
       "5    6                        [2, 8, 10, 3, 11, 7]   0.267597  0.172117   \n",
       "6    7                     [2, 8, 10, 3, 11, 7, 0]   0.266136  0.172016   \n",
       "7    8                  [2, 8, 10, 3, 11, 7, 0, 5]   0.266136  0.172016   \n",
       "8    9              [2, 8, 10, 3, 11, 7, 0, 5, 12]   0.266144  0.172079   \n",
       "9   10           [2, 8, 10, 3, 11, 7, 0, 5, 12, 1]   0.264409  0.172239   \n",
       "10  11        [2, 8, 10, 3, 11, 7, 0, 5, 12, 1, 4]   0.264258  0.173703   \n",
       "11  12     [2, 8, 10, 3, 11, 7, 0, 5, 12, 1, 4, 9]   0.263984  0.175880   \n",
       "12  13  [2, 8, 10, 3, 11, 7, 0, 5, 12, 1, 4, 9, 6]   0.252955  0.179987   \n",
       "\n",
       "    Test MSE  \n",
       "0   0.198382  \n",
       "1   0.201409  \n",
       "2   0.196570  \n",
       "3   0.195076  \n",
       "4   0.192623  \n",
       "5   0.185882  \n",
       "6   0.189306  \n",
       "7   0.189306  \n",
       "8   0.189270  \n",
       "9   0.190729  \n",
       "10  0.190242  \n",
       "11  0.189642  \n",
       "12  0.178748  "
      ]
     },
     "execution_count": 152,
     "metadata": {},
     "output_type": "execute_result"
    }
   ],
   "source": [
    "f_list1 = []\n",
    "f1 = []\n",
    "for i in range(13):\n",
    "    f_list1.append(selected[i])\n",
    "    f1.append(np.array(f_list1))\n",
    "print(\"Feature Subsets (GFFS)\")\n",
    "pd.DataFrame({'d':[1,2,3,4,5,6,7,8,9,10,11,12,13],\n",
    "        'Feature Subset': f1,\n",
    "        'Train MSE': GFFS_MSE_train,\n",
    "        'Val MSE': GFFS_MSE_val,\n",
    "        'Test MSE': GFFS_MSE_test\n",
    "       } )"
   ]
  },
  {
   "cell_type": "markdown",
   "id": "1907b060",
   "metadata": {},
   "source": [
    "### Greedy backward feature selection"
   ]
  },
  {
   "cell_type": "code",
   "execution_count": 150,
   "id": "98b3d3ff",
   "metadata": {},
   "outputs": [
    {
     "name": "stdout",
     "output_type": "stream",
     "text": [
      "Number of outliers = 138\n",
      "13\n",
      "0.2513482443793425 [0, 1, 2, 3, 4, 5, 6, 7, 8, 9, 10, 12]\n",
      "12\n",
      "0.25276859236808624 [0, 1, 2, 4, 5, 6, 7, 8, 9, 10, 12]\n",
      "11\n",
      "0.25333810560318615 [1, 2, 4, 5, 6, 7, 8, 9, 10, 12]\n",
      "10\n",
      "0.2534245566121678 [1, 2, 4, 5, 6, 7, 8, 10, 12]\n",
      "9\n",
      "0.2541159812141366 [2, 4, 5, 6, 7, 8, 10, 12]\n",
      "8\n",
      "0.25491123634195373 [2, 5, 6, 7, 8, 10, 12]\n",
      "7\n",
      "0.25491123634195373 [2, 6, 7, 8, 10, 12]\n",
      "6\n",
      "0.25535110861241384 [2, 6, 7, 8, 12]\n",
      "5\n",
      "0.2559740883822686 [2, 6, 7, 8]\n",
      "4\n",
      "0.2690252529327015 [2, 7, 8]\n",
      "3\n",
      "0.31212093121358947 [2, 7]\n",
      "2\n",
      "0.3130606408758953 [2]\n",
      "[-1, 11, 3, 0, 9, 1, 4, 5, 10, 12, 6, 8, 7, 2]\n"
     ]
    },
    {
     "data": {
      "text/plain": [
       "array(['sqft_living15', 'sqft_lot', 'bedrooms', 'sqft_above', 'bathrooms',\n",
       "       'floors', 'waterfront', 'sqft_basement', 'sqft_lot15', 'view',\n",
       "       'grade', 'condition', 'sqft_living'], dtype=object)"
      ]
     },
     "execution_count": 150,
     "metadata": {},
     "output_type": "execute_result"
    }
   ],
   "source": [
    "X_train, y_train, X_val, y_val, X_test, y_test, xnum, xdr, ynum, ydr = preprocess(df, 0.75, missingValues=\"imputemean\")\n",
    "removed, GBFS_MSE_train, GBFS_MSE_val, GBFS_MSE_test = GBFS(X_train, y_train, X_val, y_val, X_test, y_test)\n",
    "print(removed)\n",
    "np.array(df.columns)[removed[1:]]"
   ]
  },
  {
   "cell_type": "code",
   "execution_count": 153,
   "id": "b823dca2",
   "metadata": {},
   "outputs": [
    {
     "data": {
      "text/html": [
       "<div>\n",
       "<style scoped>\n",
       "    .dataframe tbody tr th:only-of-type {\n",
       "        vertical-align: middle;\n",
       "    }\n",
       "\n",
       "    .dataframe tbody tr th {\n",
       "        vertical-align: top;\n",
       "    }\n",
       "\n",
       "    .dataframe thead th {\n",
       "        text-align: right;\n",
       "    }\n",
       "</style>\n",
       "<table border=\"1\" class=\"dataframe\">\n",
       "  <thead>\n",
       "    <tr style=\"text-align: right;\">\n",
       "      <th></th>\n",
       "      <th>d</th>\n",
       "      <th>Feature Subset</th>\n",
       "      <th>Train MSE</th>\n",
       "      <th>Val MSE</th>\n",
       "      <th>Test MSE</th>\n",
       "    </tr>\n",
       "  </thead>\n",
       "  <tbody>\n",
       "    <tr>\n",
       "      <th>0</th>\n",
       "      <td>13</td>\n",
       "      <td>[0, 1, 2, 3, 4, 5, 6, 7, 8, 9, 10, 11, 12]</td>\n",
       "      <td>0.248330</td>\n",
       "      <td>0.173249</td>\n",
       "      <td>0.160088</td>\n",
       "    </tr>\n",
       "    <tr>\n",
       "      <th>1</th>\n",
       "      <td>12</td>\n",
       "      <td>[0, 1, 2, 3, 4, 5, 6, 7, 8, 9, 10, 12]</td>\n",
       "      <td>0.251348</td>\n",
       "      <td>0.170032</td>\n",
       "      <td>0.163241</td>\n",
       "    </tr>\n",
       "    <tr>\n",
       "      <th>2</th>\n",
       "      <td>11</td>\n",
       "      <td>[0, 1, 2, 4, 5, 6, 7, 8, 9, 10, 12]</td>\n",
       "      <td>0.252769</td>\n",
       "      <td>0.167387</td>\n",
       "      <td>0.162353</td>\n",
       "    </tr>\n",
       "    <tr>\n",
       "      <th>3</th>\n",
       "      <td>10</td>\n",
       "      <td>[1, 2, 4, 5, 6, 7, 8, 9, 10, 12]</td>\n",
       "      <td>0.253338</td>\n",
       "      <td>0.165889</td>\n",
       "      <td>0.160448</td>\n",
       "    </tr>\n",
       "    <tr>\n",
       "      <th>4</th>\n",
       "      <td>9</td>\n",
       "      <td>[1, 2, 4, 5, 6, 7, 8, 10, 12]</td>\n",
       "      <td>0.253425</td>\n",
       "      <td>0.164915</td>\n",
       "      <td>0.160748</td>\n",
       "    </tr>\n",
       "    <tr>\n",
       "      <th>5</th>\n",
       "      <td>8</td>\n",
       "      <td>[2, 4, 5, 6, 7, 8, 10, 12]</td>\n",
       "      <td>0.254116</td>\n",
       "      <td>0.164097</td>\n",
       "      <td>0.162061</td>\n",
       "    </tr>\n",
       "    <tr>\n",
       "      <th>6</th>\n",
       "      <td>7</td>\n",
       "      <td>[2, 5, 6, 7, 8, 10, 12]</td>\n",
       "      <td>0.254911</td>\n",
       "      <td>0.163271</td>\n",
       "      <td>0.159668</td>\n",
       "    </tr>\n",
       "    <tr>\n",
       "      <th>7</th>\n",
       "      <td>6</td>\n",
       "      <td>[2, 6, 7, 8, 10, 12]</td>\n",
       "      <td>0.254911</td>\n",
       "      <td>0.163271</td>\n",
       "      <td>0.159668</td>\n",
       "    </tr>\n",
       "    <tr>\n",
       "      <th>8</th>\n",
       "      <td>5</td>\n",
       "      <td>[2, 6, 7, 8, 12]</td>\n",
       "      <td>0.255351</td>\n",
       "      <td>0.163369</td>\n",
       "      <td>0.162398</td>\n",
       "    </tr>\n",
       "    <tr>\n",
       "      <th>9</th>\n",
       "      <td>4</td>\n",
       "      <td>[2, 6, 7, 8]</td>\n",
       "      <td>0.255974</td>\n",
       "      <td>0.166645</td>\n",
       "      <td>0.165264</td>\n",
       "    </tr>\n",
       "    <tr>\n",
       "      <th>10</th>\n",
       "      <td>3</td>\n",
       "      <td>[2, 7, 8]</td>\n",
       "      <td>0.269025</td>\n",
       "      <td>0.173393</td>\n",
       "      <td>0.173692</td>\n",
       "    </tr>\n",
       "    <tr>\n",
       "      <th>11</th>\n",
       "      <td>2</td>\n",
       "      <td>[2, 7]</td>\n",
       "      <td>0.312121</td>\n",
       "      <td>0.182335</td>\n",
       "      <td>0.179744</td>\n",
       "    </tr>\n",
       "    <tr>\n",
       "      <th>12</th>\n",
       "      <td>1</td>\n",
       "      <td>[2]</td>\n",
       "      <td>0.313061</td>\n",
       "      <td>0.186647</td>\n",
       "      <td>0.181600</td>\n",
       "    </tr>\n",
       "  </tbody>\n",
       "</table>\n",
       "</div>"
      ],
      "text/plain": [
       "     d                              Feature Subset  Train MSE   Val MSE  \\\n",
       "0   13  [0, 1, 2, 3, 4, 5, 6, 7, 8, 9, 10, 11, 12]   0.248330  0.173249   \n",
       "1   12      [0, 1, 2, 3, 4, 5, 6, 7, 8, 9, 10, 12]   0.251348  0.170032   \n",
       "2   11         [0, 1, 2, 4, 5, 6, 7, 8, 9, 10, 12]   0.252769  0.167387   \n",
       "3   10            [1, 2, 4, 5, 6, 7, 8, 9, 10, 12]   0.253338  0.165889   \n",
       "4    9               [1, 2, 4, 5, 6, 7, 8, 10, 12]   0.253425  0.164915   \n",
       "5    8                  [2, 4, 5, 6, 7, 8, 10, 12]   0.254116  0.164097   \n",
       "6    7                     [2, 5, 6, 7, 8, 10, 12]   0.254911  0.163271   \n",
       "7    6                        [2, 6, 7, 8, 10, 12]   0.254911  0.163271   \n",
       "8    5                            [2, 6, 7, 8, 12]   0.255351  0.163369   \n",
       "9    4                                [2, 6, 7, 8]   0.255974  0.166645   \n",
       "10   3                                   [2, 7, 8]   0.269025  0.173393   \n",
       "11   2                                      [2, 7]   0.312121  0.182335   \n",
       "12   1                                         [2]   0.313061  0.186647   \n",
       "\n",
       "    Test MSE  \n",
       "0   0.160088  \n",
       "1   0.163241  \n",
       "2   0.162353  \n",
       "3   0.160448  \n",
       "4   0.160748  \n",
       "5   0.162061  \n",
       "6   0.159668  \n",
       "7   0.159668  \n",
       "8   0.162398  \n",
       "9   0.165264  \n",
       "10  0.173692  \n",
       "11  0.179744  \n",
       "12  0.181600  "
      ]
     },
     "execution_count": 153,
     "metadata": {},
     "output_type": "execute_result"
    }
   ],
   "source": [
    "f_list = np.arange(0,13,1)\n",
    "f = []\n",
    "for i in range(1,14):\n",
    "    f.append(f_list)\n",
    "    f_list = f_list[f_list != removed[i]]\n",
    "pd.DataFrame({'d':[13,12,11,10,9,8,7,6,5,4,3,2,1],\n",
    "        'Feature Subset': f,\n",
    "        'Train MSE': GBFS_MSE_train,\n",
    "        'Val MSE': GBFS_MSE_val,\n",
    "        'Test MSE': GBFS_MSE_test\n",
    "       } )"
   ]
  },
  {
   "cell_type": "code",
   "execution_count": null,
   "id": "91858f04",
   "metadata": {},
   "outputs": [],
   "source": []
  }
 ],
 "metadata": {
  "kernelspec": {
   "display_name": "Python 3 (ipykernel)",
   "language": "python",
   "name": "python3"
  },
  "language_info": {
   "codemirror_mode": {
    "name": "ipython",
    "version": 3
   },
   "file_extension": ".py",
   "mimetype": "text/x-python",
   "name": "python",
   "nbconvert_exporter": "python",
   "pygments_lexer": "ipython3",
   "version": "3.8.1"
  }
 },
 "nbformat": 4,
 "nbformat_minor": 5
}
